{
 "cells": [
  {
   "cell_type": "code",
   "execution_count": 1,
   "id": "a5f2d1e1-9ed2-487f-ab45-1631cb380fcc",
   "metadata": {},
   "outputs": [
    {
     "name": "stderr",
     "output_type": "stream",
     "text": [
      "WARNING:absl:Compiled the loaded model, but the compiled metrics have yet to be built. `model.compile_metrics` will be empty until you train or evaluate the model.\n",
      "2025-07-26 09:41:06.387 \n",
      "  \u001b[33m\u001b[1mWarning:\u001b[0m to view this Streamlit app on a browser, run it with the following\n",
      "  command:\n",
      "\n",
      "    streamlit run C:\\Users\\Vbkam\\anaconda3\\Lib\\site-packages\\ipykernel_launcher.py [ARGUMENTS]\n"
     ]
    }
   ],
   "source": [
    "import streamlit as st\n",
    "import tensorflow as tf\n",
    "import numpy as np\n",
    "from PIL import Image\n",
    "import json\n",
    "from tensorflow.keras.preprocessing.image import img_to_array\n",
    "\n",
    "# === Load Model and Class Labels ===\n",
    "model = tf.keras.models.load_model('pneumonia_model.h5')\n",
    "with open('pneumonia_labels.json') as f:\n",
    "    class_indices = json.load(f)\n",
    "class_labels = list(class_indices.keys())\n",
    "\n",
    "# === Image Preprocessing ===\n",
    "def preprocess_image(image):\n",
    "    image = image.resize((224, 224)).convert('RGB')\n",
    "    image_array = img_to_array(image) / 255.0\n",
    "    return np.expand_dims(image_array, axis=0)\n",
    "\n",
    "# === Streamlit UI ===\n",
    "st.set_page_config(page_title=\"Pneumonia Detector\")\n",
    "st.title(\"🫁 Pneumonia Chest X-ray Classifier\")\n",
    "st.write(\"Upload a chest X-ray image to detect **Pneumonia** or **Normal** condition.\")\n",
    "\n",
    "uploaded_file = st.file_uploader(\"Upload Image\", type=[\"jpg\", \"png\", \"jpeg\"])\n",
    "\n",
    "if uploaded_file is not None:\n",
    "    image = Image.open(uploaded_file)\n",
    "    st.image(image, caption=\"Uploaded Chest X-ray\", use_container_width=True)\n",
    "\n",
    "    with st.spinner(\"🧠 Predicting...\"):\n",
    "        img_tensor = preprocess_image(image)\n",
    "        predictions = model.predict(img_tensor)\n",
    "        predicted_class = class_labels[np.argmax(predictions)]\n",
    "        confidence = np.max(predictions) * 100\n",
    "\n",
    "    st.success(f\"🩺 Predicted: **{predicted_class}** ({confidence:.2f}%)\")\n"
   ]
  },
  {
   "cell_type": "code",
   "execution_count": null,
   "id": "35dd74bf-f221-450a-ab95-4cbe79cdd1c9",
   "metadata": {},
   "outputs": [],
   "source": []
  }
 ],
 "metadata": {
  "kernelspec": {
   "display_name": "Python 3 (ipykernel)",
   "language": "python",
   "name": "python3"
  },
  "language_info": {
   "codemirror_mode": {
    "name": "ipython",
    "version": 3
   },
   "file_extension": ".py",
   "mimetype": "text/x-python",
   "name": "python",
   "nbconvert_exporter": "python",
   "pygments_lexer": "ipython3",
   "version": "3.12.7"
  }
 },
 "nbformat": 4,
 "nbformat_minor": 5
}
